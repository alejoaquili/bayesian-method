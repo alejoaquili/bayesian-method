{
 "cells": [
  {
   "cell_type": "markdown",
   "metadata": {},
   "source": [
    "# *Ejercicio 2*\n",
    "\n",
    "Consideremos el siguiente vector de atributos binarios:\n",
    "\n",
    "                                          (scones, cerveza, whisky, avena, futbol)\n",
    "\n",
    "\n",
    "El vector **x = (1, 0, 1, 1, 0)** significa que se trata de una persona que le gustan los scones, no toma cerveza, le gusta el whisky y la avena pero no ve futbol.\n",
    "\n",
    "a) Implementar el clasificador ingenuo de Bayes.\n",
    "\n",
    "b) Clasificar el ejemplo **x = (1, 0, 1, 1, 0)** determinando si corresponde a las preferencias\n",
    "de una persona inglesa o escosesa."
   ]
  },
  {
   "cell_type": "code",
   "execution_count": 16,
   "metadata": {},
   "outputs": [
    {
     "name": "stdout",
     "output_type": "stream",
     "text": [
      "['E', 'I']\n"
     ]
    }
   ],
   "source": [
    "from utils.data_loader import load_person_preferences\n",
    "from bayesian_naive_classifier import bayesian_classifier\n",
    "\n",
    "\n",
    "titles, training_matrix = load_person_preferences(\"../data/PreferenciasBritanicos.csv\")\n",
    "print(bayesian_classifier(training_matrix, [[1, 0, 1, 1, 0], [0, 0, 1, 0, 1]], [1, 1, 1, 1, 1]))"
   ]
  },
  {
   "cell_type": "markdown",
   "metadata": {},
   "source": [
    "# *Ejercicio 3*\n",
    "\n",
    "Clasificador de texto utilizando el clasificador ingenuo de Bayes para el conjunto de datos ”Noticias Argentinas”.\n",
    "\n",
    "a) Utilizar al menos 4 categor ías. Dividir el conjunto de textos disponible para utilizar una parte de los mismos como conjunto de entrenamiento y otro como conjunto test.\n",
    "\n",
    "b) Construir la matriz de confusión.\n",
    "\n",
    "c) Calcular las medidas de evaluación Accuracy, Precision, tasa de verdaderos positivos,\n",
    "tasa de falsos positivos y F1-score.\n",
    "\n",
    "d) Calcular la curva ROC."
   ]
  },
  {
   "cell_type": "code",
   "execution_count": 4,
   "metadata": {
    "scrolled": true
   },
   "outputs": [
    {
     "name": "stdout",
     "output_type": "stream",
     "text": [
      "85\n",
      "0.027579493835171966\n",
      "{'Ciencia y Tecnologia': 0.9948119325551232, 'Deportes': 0.9857328145265889, 'Economia': 0.9662337662337662, 'Internacional': 0.9428571428571428}\n",
      "{'Ciencia y Tecnologia': 0.010817827780181739, 'Deportes': 0.005192557334487235, 'Economia': 0.013408304498269897, 'Internacional': 0.007352941176470588}\n",
      "{'Ciencia y Tecnologia': 0.9948119325551232, 'Deportes': 0.9857328145265889, 'Economia': 0.9662337662337662, 'Internacional': 0.9428571428571428}\n",
      "{'Ciencia y Tecnologia': 0.990590525632706, 'Deportes': 0.9925373134328358, 'Economia': 0.981505515898767, 'Internacional': 0.9802076573653472}\n",
      "{'Ciencia y Tecnologia': 0.9684343434343434, 'Deportes': 0.9844559585492227, 'Economia': 0.96, 'Internacional': 0.9771197846567967}\n",
      "{'Ciencia y Tecnologia': 0.9814459373000639, 'Deportes': 0.9850939727802981, 'Economia': 0.9631067961165048, 'Internacional': 0.9596827495042961}\n",
      "{'Ciencia y Tecnologia': (0.010817827780181739, 0.9948119325551232), 'Deportes': (0.005192557334487235, 0.9857328145265889), 'Economia': (0.013408304498269897, 0.9662337662337662), 'Internacional': (0.007352941176470588, 0.9428571428571428)}\n"
     ]
    }
   ],
   "source": [
    "import numpy as np\n",
    "from utils.data_loader import load_transformed_news_dataset\n",
    "from models.news_classifier import NewsClassifier\n",
    "from sklearn.model_selection import train_test_split\n",
    "\n",
    "titles, news_data = load_transformed_news_dataset(\"../data/transformed_news.tsv\")\n",
    "train_matrix = news_data[:, :3]\n",
    "categories = news_data[:, 3]\n",
    "training_news, test_news, training_target, test_target = train_test_split(train_matrix, categories, train_size=0.8,\n",
    "                                                                          stratify=categories)\n",
    "news_classifier = NewsClassifier()\n",
    "column = np.transpose\n",
    "extra_column = training_target.reshape(len(training_target), 1)\n",
    "training_news = np.append(training_news, extra_column, axis=1)\n",
    "news_classifier.train(training_news, ignore_words=True)\n",
    "result, metrics = news_classifier.classify(test_news, test_target, generate_metrics=True, output_path=\"../output\",\n",
    "                                           use_sources=False, ignore_words=False)\n",
    "print(metrics.estimated_classifier_error)\n",
    "print(metrics.estimated_classifier_error_relative)\n",
    "print(metrics.true_positives_rate)\n",
    "print(metrics.false_positives_rate)\n",
    "print(metrics.recall)\n",
    "print(metrics.accuracy)\n",
    "print(metrics.precision)\n",
    "print(metrics.f1_score)\n",
    "print(metrics.matthews_correlation_coefficient)\n",
    "print(metrics.roc_point)\n"
   ]
  },
  {
   "attachments": {
    "confusion_matrix_heatmap.png": {
     "image/png": "[encoded data removed]"
    }
   },
   "cell_type": "markdown",
   "metadata": {},
   "source": [
    "![confusion_matrix_heatmap.png](attachment:confusion_matrix_heatmap.png)\n"
   ]
  },
  {
   "cell_type": "markdown",
   "metadata": {},
   "source": [
    "# *Ejercicio 4*\n",
    "El conjunto de datos **binary.csv** contiene información de la admisión de estudiantes a una universidad.\n",
    "\n",
    "Las variables son:\n",
    "\n",
    "*   *admit*: toma valores 0: no fue admitido, 1 fue admitido\n",
    "*   *GRE (Graduate Record Exam scores)*: variable numérica\n",
    "*   *GPA (Grade Point Average)*: variable numérica\n",
    "*   *rank*: variable categórica que se refiere al prestigio de la escuela secundaria a la que el alumno asistió y toma valores {1, 2, 3, 4}.\n",
    "\n",
    "Un investigador está interesado en averiguar cómo influyen estas variables en la admisión. Discretiza las variables GRE y GPA de la siguiente manera GRE ∈ {GRE ≥ 500,GRE < 500} y GPA ∈ {GPA ≥ 3,GPA < 3}. Sabe que estas variables cumplen las relaciones presentadas en la *Figura 1*.\n",
    "\n",
    "*Figura 1*: Relaciones entre las variables\n",
    "\n",
    "\n",
    "a) Calcular la probabilidad de que una persona que proviene de una escuela con rango 1 no haya sido admitida en la universidad.\n",
    "\n",
    "b) Calcular la probabilidad de que una persona que fue a una escuela de rango 2, tenga GRE = 450 y GPA = 3.5 sea admitida en la universidad.\n",
    "\n",
    "c) En este ejercicio, ¿cuál es el proceso de aprendizaje?"
   ]
  },
  {
   "cell_type": "code",
   "execution_count": 11,
   "metadata": {},
   "outputs": [
    {
     "name": "stdout",
     "output_type": "stream",
     "text": [
      "0.5517631529323024\n",
      "0.2173913043478261\n",
      "0.9585140486517064\n"
     ]
    }
   ],
   "source": [
    "from models.bayesian_network import BayesianNetwork\n",
    "from utils.data_loader import load_news_dataset, load_transformed_news_dataset, load_binary_dataset, discretize_binary_dataset\n",
    "\n",
    "titles, matrix = load_binary_dataset(\"../data/binary.csv\")\n",
    "matrix = discretize_binary_dataset(titles, matrix)\n",
    "# print(titles)\n",
    "data_relations = [[\"rank\", [\"admit\", \"gre\", \"gpa\"], [1, 2, 3, 4]], [\"gpa\", [\"admit\"], [0, 1]],\n",
    "                  [\"gre\", [\"admit\"], [0, 1]], [\"admit\", [], [0, 1]]]\n",
    "bayesian_network = BayesianNetwork(data_relations, matrix, titles)\n",
    "\n",
    "probability = bayesian_network.calculate_total_generic_condicional_probability([\"rank\", \"admit\"], [1, 1], [\"rank\"], [1])\n",
    "print(probability)\n",
    "probability = bayesian_network.calculate_total_generic_condicional_probability([\"rank\", \"gre\", \"gpa\", \"admit\"],\n",
    "                                                                               [2, 0, 1, 1], [\"rank\", \"gre\", \"gpa\"],\n",
    "                                                                               [2, 0, 1])\n",
    "print(probability)\n"
   ]
  },
  {
   "cell_type": "code",
   "execution_count": null,
   "metadata": {},
   "outputs": [],
   "source": []
  }
 ],
 "metadata": {
  "kernelspec": {
   "display_name": "Python 3",
   "language": "python",
   "name": "python3"
  },
  "language_info": {
   "codemirror_mode": {
    "name": "ipython",
    "version": 3
   },
   "file_extension": ".py",
   "mimetype": "text/x-python",
   "name": "python",
   "nbconvert_exporter": "python",
   "pygments_lexer": "ipython3",
   "version": "3.7.1"
  },
  "pycharm": {
   "stem_cell": {
    "cell_type": "raw",
    "source": [],
    "metadata": {
     "collapsed": false
    }
   }
  }
 },
 "nbformat": 4,
 "nbformat_minor": 4
}